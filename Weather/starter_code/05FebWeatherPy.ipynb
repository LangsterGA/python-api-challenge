{
 "cells": [
  {
   "cell_type": "markdown",
   "metadata": {},
   "source": [
    "# WeatherPy\n",
    "----\n",
    "\n",
    "#### Note\n",
    "* Instructions have been included for each segment. You do not have to follow them exactly, but they are included to help you think through the steps."
   ]
  },
  {
   "cell_type": "code",
   "execution_count": 1,
   "metadata": {
    "scrolled": true
   },
   "outputs": [],
   "source": [
    "# Dependencies and Setup\n",
    "import matplotlib.pyplot as plt\n",
    "import pandas as pd\n",
    "import numpy as np\n",
    "import requests\n",
    "import time\n",
    "from scipy.stats import linregress\n",
    "from pprint import pprint\n",
    "\n",
    "# Import API key\n",
    "#from api_keys import weather_api_key\n",
    "weather_api_key = \"ca9485fa85c146e6ad728bd4a821bcc8\"\n",
    "\n",
    "# Incorporated citipy to determine city based on latitude and longitude\n",
    "from citipy import citipy\n",
    "\n",
    "# Output File (CSV)\n",
    "output_data_file = \"output_data/cities.csv\"\n",
    "\n",
    "# Range of latitudes and longitudes\n",
    "lat_range = (-90, 90)\n",
    "lng_range = (-180, 180)"
   ]
  },
  {
   "cell_type": "markdown",
   "metadata": {},
   "source": [
    "## Generate Cities List"
   ]
  },
  {
   "cell_type": "code",
   "execution_count": 2,
   "metadata": {},
   "outputs": [
    {
     "data": {
      "text/plain": [
       "634"
      ]
     },
     "execution_count": 2,
     "metadata": {},
     "output_type": "execute_result"
    }
   ],
   "source": [
    "# List for holding lat_lngs and cities\n",
    "lat_lngs = []\n",
    "cities = []\n",
    "\n",
    "# Create a set of random lat and lng combinations\n",
    "lats = np.random.uniform(lat_range[0], lat_range[1], size=1500)\n",
    "lngs = np.random.uniform(lng_range[0], lng_range[1], size=1500)\n",
    "lat_lngs = zip(lats, lngs)\n",
    "\n",
    "# Identify nearest city for each lat, lng combination\n",
    "for lat_lng in lat_lngs:\n",
    "    city = citipy.nearest_city(lat_lng[0], lat_lng[1]).city_name\n",
    "    \n",
    "    # If the city is unique, then add it to a our cities list # So in other words - this is building a list not comparing\n",
    "    if city not in cities:\n",
    "        cities.append(city)\n",
    "\n",
    "# Checking my list of cities\n",
    "df = pd.DataFrame(cities,columns=['Cities'])\n",
    "\n",
    "# Print the city count to confirm sufficient count\n",
    "len(cities)\n",
    "#df\n"
   ]
  },
  {
   "cell_type": "markdown",
   "metadata": {},
   "source": [
    "### Perform API Calls\n",
    "* Perform a weather check on each city using a series of successive API calls.\n",
    "* Include a print log of each city as it'sbeing processed (with the city number and city name).\n"
   ]
  },
  {
   "cell_type": "code",
   "execution_count": 3,
   "metadata": {
    "scrolled": true
   },
   "outputs": [],
   "source": [
    " # q=London&appid=ca9485fa85c146e6ad728bd4a821bcc8\n",
    "url = \"http://api.openweathermap.org/data/2.5/weather?\"\n",
    "units = \"imperial\"\n",
    "# query_url = url + \"q=London&\" + \"appid=ca9485fa85c146e6ad728bd4a821bcc8\"\n",
    "query_url = f\"{url}appid={weather_api_key}&units={units}&q=\"\n",
    "#pprint(query_url)"
   ]
  },
  {
   "cell_type": "code",
   "execution_count": 4,
   "metadata": {
    "scrolled": true
   },
   "outputs": [
    {
     "name": "stdout",
     "output_type": "stream",
     "text": [
      "0 butaritari\n",
      "1 albany\n",
      "2 birmitrapur\n",
      "3 punta arenas\n",
      "4 aswan\n",
      "5 atasu\n",
      "6 ushuaia\n",
      "7 nova granada\n",
      "8 tomatlan\n",
      "9 faanui\n",
      "10 jamestown\n",
      "11 srednekolymsk\n",
      "12 lebu\n",
      "13 anadyr\n",
      "14 cape town\n",
      "15 saint-gaudens\n",
      "16 salinas\n",
      "17 mahebourg\n",
      "18 wajid\n",
      "19 dingle\n",
      "20 lewistown\n",
      "21 hobart\n",
      "22 quang ngai\n",
      "23 mataura\n",
      "24 namtsy\n",
      "25 ibra\n",
      "26 rikitea\n",
      "27 saskylakh\n",
      "28 verkhnyaya inta\n",
      "29 qaanaaq\n",
      "30 volzhskiy\n",
      "31 fortuna\n",
      "32 tuktoyaktuk\n",
      "33 manyana\n",
      "34 kapaa\n",
      "35 lasa\n",
      "36 barrow\n",
      "37 port alfred\n",
      "38 mabaruma\n",
      "39 ladario\n",
      "40 mar del plata\n",
      "41 rabak\n",
      "42 nanortalik\n",
      "43 vao\n",
      "44 bluff\n",
      "45 hithadhoo\n",
      "46 pevek\n",
      "47 ponta do sol\n",
      "48 hermanus\n",
      "49 naron\n",
      "50 norman wells\n",
      "51 tiksi\n",
      "52 tiznit\n",
      "53 chumikan\n",
      "54 bireun\n",
      "55 tumbi\n",
      "56 milkovo\n",
      "57 auki\n",
      "58 malmesbury\n",
      "59 souillac\n",
      "60 karratha\n",
      "61 beringovskiy\n",
      "62 george town\n",
      "63 busselton\n",
      "64 menzelinsk\n",
      "65 muroto\n",
      "66 asuncion nochixtlan\n",
      "67 port elizabeth\n",
      "68 naranjos\n",
      "69 caravelas\n",
      "70 plettenberg bay\n",
      "71 cherskiy\n",
      "72 panji\n",
      "73 kikwit\n",
      "74 nyaunglebin\n",
      "75 kaitangata\n",
      "76 torbay\n",
      "77 chany\n",
      "78 muyezerskiy\n",
      "79 igrim\n",
      "80 katsuura\n",
      "81 castro\n",
      "82 salym\n",
      "83 xam nua\n",
      "84 kavaratti\n",
      "85 abha\n",
      "86 bethel\n",
      "87 carpentras\n",
      "88 prince rupert\n",
      "89 puerto ayora\n",
      "90 hauterive\n",
      "91 saint-paul\n",
      "92 chokurdakh\n",
      "93 barra patuca\n",
      "94 padang\n",
      "95 thompson\n",
      "96 miandrivazo\n",
      "97 ratnagiri\n",
      "98 kindu\n",
      "99 stokmarknes\n",
      "100 vaini\n",
      "101 codrington\n",
      "102 nome\n",
      "103 airai\n",
      "104 tumsar\n",
      "105 opuwo\n",
      "106 cabo san lucas\n",
      "107 tambacounda\n",
      "108 chuy\n",
      "109 victoria\n",
      "110 dudinka\n",
      "111 barabash\n",
      "112 clyde river\n",
      "113 bengkulu\n",
      "114 alice springs\n",
      "115 hilo\n",
      "116 nishihara\n",
      "117 antofagasta\n",
      "118 east london\n",
      "119 new norfolk\n",
      "120 khatanga\n",
      "121 banff\n",
      "122 macklin\n",
      "123 carutapera\n",
      "124 atuona\n",
      "125 tondano\n",
      "126 thunder bay\n",
      "127 mount gambier\n",
      "128 oda\n",
      "129 talnakh\n",
      "130 inuvik\n",
      "131 nalut\n",
      "132 kodiak\n",
      "133 port lincoln\n",
      "134 gat\n",
      "135 west bay\n",
      "136 pijijiapan\n",
      "137 saint-augustin\n",
      "138 evensk\n",
      "139 georgetown\n",
      "140 sao miguel do araguaia\n",
      "141 cidreira\n",
      "142 sangar\n",
      "143 severo-kurilsk\n",
      "144 dikson\n",
      "145 yellowknife\n",
      "146 lubango\n",
      "147 alofi\n",
      "148 vila franca do campo\n",
      "149 gushikawa\n",
      "150 bima\n",
      "151 rio gallegos\n",
      "152 tasiilaq\n",
      "153 labuhan\n",
      "154 arraial do cabo\n",
      "155 yerbogachen\n",
      "156 tilichiki\n",
      "157 lagoa\n",
      "158 sitka\n",
      "159 ballina\n",
      "160 rize\n",
      "161 olafsvik\n",
      "162 marshall\n",
      "163 fukue\n",
      "164 vetluga\n",
      "165 guerrero negro\n",
      "166 jalu\n",
      "167 barraute\n",
      "168 mirnyy\n",
      "169 berbera\n",
      "170 cumberland\n",
      "171 tourlaville\n",
      "172 praia da vitoria\n",
      "173 upernavik\n",
      "174 codajas\n",
      "175 vieste\n",
      "176 maraa\n",
      "177 turukhansk\n",
      "178 maningrida\n",
      "179 polyarnyy\n",
      "180 muros\n",
      "181 santander jimenez\n",
      "182 tadine\n",
      "183 port hawkesbury\n",
      "184 celestun\n",
      "185 havelock\n",
      "186 bathsheba\n",
      "187 rincon\n",
      "188 panaba\n",
      "189 kavieng\n",
      "190 vestmannaeyjar\n",
      "191 nuevo progreso\n",
      "192 constantine\n",
      "193 saint-philippe\n",
      "194 viedma\n",
      "195 tura\n",
      "196 port macquarie\n",
      "197 yekaterinoslavka\n",
      "198 avarua\n",
      "199 faya\n",
      "200 houma\n",
      "201 boali\n",
      "202 sherbakul\n",
      "203 luwuk\n",
      "204 sur\n",
      "205 saldanha\n",
      "206 finote selam\n",
      "207 coquimbo\n",
      "208 linjiang\n",
      "209 batemans bay\n",
      "210 takab\n",
      "211 sampaloc\n",
      "212 klaksvik\n",
      "213 iqaluit\n",
      "214 vanimo\n",
      "215 johi\n",
      "216 nagornyy\n",
      "217 necochea\n",
      "218 hofn\n",
      "219 altoona\n",
      "220 haines junction\n",
      "221 chernyshevskiy\n",
      "222 sorland\n",
      "223 wangqing\n",
      "224 cambui\n",
      "225 marienburg\n",
      "226 dobryanka\n",
      "227 kalianget\n",
      "228 rapid valley\n",
      "229 pitimbu\n",
      "230 kalakamati\n",
      "231 dashitou\n",
      "232 provideniya\n",
      "233 esperance\n",
      "234 buluang\n",
      "235 bay city\n",
      "236 ribeira grande\n",
      "237 semenyih\n",
      "238 dali\n",
      "239 moron\n",
      "240 makokou\n",
      "241 ahtopol\n",
      "242 araouane\n",
      "243 west wendover\n",
      "244 fergus falls\n",
      "245 ponta delgada\n",
      "246 babina\n",
      "247 murgab\n",
      "248 carnarvon\n",
      "249 port hedland\n",
      "250 chunskiy\n",
      "251 martinsville\n",
      "252 oranjemund\n",
      "253 jaisalmer\n",
      "254 mishkino\n",
      "255 ode\n",
      "256 bredasdorp\n",
      "257 channel-port aux basques\n",
      "258 chimbote\n",
      "259 kiunga\n",
      "260 vagur\n",
      "261 lumeje\n",
      "262 poum\n",
      "263 raahe\n",
      "264 waitati\n",
      "265 beyla\n",
      "266 ishigaki\n",
      "267 hazorasp\n",
      "268 hualmay\n",
      "269 jumla\n",
      "270 ishinomaki\n",
      "271 keuruu\n",
      "272 bambous virieux\n",
      "273 tuatapere\n",
      "274 lata\n",
      "275 majene\n",
      "276 keti bandar\n",
      "277 taicheng\n",
      "278 gijon\n",
      "279 evora\n",
      "280 nisia floresta\n",
      "281 ituporanga\n",
      "282 uige\n",
      "283 pisco\n",
      "284 cuenca\n",
      "285 totness\n",
      "286 hingoli\n",
      "287 paamiut\n",
      "288 colares\n",
      "289 collie\n",
      "290 bannu\n",
      "291 half moon bay\n",
      "292 aksu\n",
      "293 neyshabur\n",
      "294 larsnes\n",
      "295 aykhal\n",
      "296 wadi maliz\n",
      "297 ambilobe\n",
      "298 achit\n",
      "299 yongan\n",
      "300 casas grandes\n",
      "301 ramapuram\n",
      "302 vyazemskiy\n",
      "303 pacasmayo\n",
      "304 narsaq\n",
      "305 pangnirtung\n",
      "306 krasnoselkup\n",
      "307 tahe\n",
      "308 freeport\n",
      "309 grand gaube\n",
      "310 palmer\n",
      "311 yar-sale\n",
      "312 taltal\n",
      "313 rovaniemi\n",
      "314 bunbury\n",
      "315 along\n",
      "316 praya\n",
      "317 adrar\n",
      "318 dunedin\n",
      "319 deputatskiy\n",
      "320 rocha\n",
      "321 lavrentiya\n",
      "322 ambon\n",
      "323 ancud\n",
      "324 vila velha\n",
      "325 kapuskasing\n",
      "326 rodrigues alves\n",
      "327 ilulissat\n",
      "328 lovozero\n",
      "329 coahuayana\n",
      "330 lufilufi\n",
      "331 lazaro cardenas\n",
      "332 medvedevo\n",
      "333 college\n",
      "334 severomuysk\n",
      "335 la maddalena\n",
      "336 luderitz\n",
      "337 kant\n",
      "338 puri\n",
      "339 halifax\n",
      "340 tateyama\n",
      "341 tessalit\n",
      "342 isangel\n",
      "343 saint anthony\n",
      "344 fairlie\n",
      "345 luangwa\n",
      "346 nikolskoye\n",
      "347 nyagan\n",
      "348 the valley\n",
      "349 saint-louis\n",
      "350 richards bay\n",
      "351 quatre cocos\n",
      "352 tefe\n",
      "353 linkoping\n",
      "354 akyab\n",
      "355 kamalapuram\n",
      "356 naze\n",
      "357 hasaki\n",
      "358 jalingo\n",
      "359 yamada\n",
      "360 sambava\n",
      "361 heyang\n",
      "362 sorong\n",
      "363 khash\n",
      "364 gravdal\n",
      "365 marawi\n",
      "366 mlandizi\n",
      "367 tres arroyos\n",
      "368 kitimat\n",
      "369 waipawa\n",
      "370 sherman\n",
      "371 walvis bay\n",
      "372 frolovo\n",
      "373 nagapattinam\n",
      "374 sioux lookout\n",
      "375 kidal\n",
      "376 biak\n",
      "377 yining\n",
      "378 constitucion\n",
      "379 mangrol\n",
      "380 soyo\n",
      "381 baoqing\n",
      "382 san quintin\n",
      "383 qiongshan\n",
      "384 taldan\n",
      "385 zeya\n",
      "386 wum\n",
      "387 la cruz\n",
      "388 kargasok\n",
      "389 luau\n",
      "390 camacha\n",
      "391 jardim\n",
      "392 brae\n",
      "393 jequie\n",
      "394 bartica\n",
      "395 aklavik\n",
      "396 sokolo\n",
      "397 saint george\n",
      "398 hervey bay\n",
      "399 svetlaya\n",
      "400 hof\n",
      "401 lakki marwat\n",
      "402 durazno\n",
      "403 hami\n",
      "404 kirovskiy\n",
      "405 lipari\n",
      "406 mildura\n",
      "407 iquitos\n",
      "408 portland\n",
      "409 myitkyina\n",
      "410 sadiqabad\n",
      "411 labrea\n",
      "412 pangody\n",
      "413 suntar\n",
      "414 launceston\n",
      "415 harper\n",
      "416 zhigansk\n",
      "417 sao filipe\n",
      "418 bardiyah\n",
      "419 svetlogorsk\n",
      "420 hobyo\n",
      "421 owando\n",
      "422 nuuk\n",
      "423 rawson\n",
      "424 karasjok\n",
      "425 broken hill\n",
      "426 kampene\n",
      "427 guaraniacu\n",
      "428 amudat\n",
      "429 te anau\n",
      "430 bay roberts\n",
      "431 urumqi\n",
      "432 mari-turek\n",
      "433 atar\n",
      "434 mukdahan\n",
      "435 longyearbyen\n",
      "436 burayevo\n",
      "437 kigorobya\n",
      "438 seoul\n",
      "439 nouadhibou\n",
      "440 sokna\n",
      "441 yakeshi\n",
      "442 sawang daen din\n",
      "443 leningradskiy\n",
      "444 sao joao dos patos\n",
      "445 orlik\n",
      "446 paracuru\n",
      "447 rondonopolis\n",
      "448 riachao das neves\n",
      "449 abnub\n",
      "450 mount isa\n",
      "451 aksarka\n",
      "452 bosaso\n",
      "453 nushki\n",
      "454 mustasaari\n",
      "455 surgut\n",
      "456 nantucket\n",
      "457 terrace\n",
      "458 parabel\n",
      "459 meulaboh\n",
      "460 touros\n",
      "461 oeiras do para\n",
      "462 san patricio\n",
      "463 vitina\n",
      "464 nelson bay\n",
      "465 royan\n",
      "466 manokwari\n",
      "467 ferrol\n",
      "468 yinchuan\n",
      "469 inirida\n",
      "470 la roda\n",
      "471 sao joao da barra\n",
      "472 buala\n",
      "473 raudeberg\n",
      "474 vlore\n",
      "475 oxford\n",
      "476 bulgan\n",
      "477 kysyl-syr\n",
      "478 wajir\n",
      "479 chitungwiza\n",
      "480 jiexiu\n",
      "481 redmond\n",
      "482 lorengau\n",
      "483 severnyy\n",
      "484 zabol\n",
      "485 raton\n",
      "486 asau\n",
      "487 kapit\n",
      "488 dicabisagan\n",
      "489 letlhakane\n",
      "490 kaa-khem\n",
      "491 hirara\n",
      "492 seddon\n",
      "493 saravan\n",
      "494 qeshm\n",
      "495 magadan\n",
      "496 aitape\n",
      "497 kodinsk\n",
      "498 vostok\n",
      "499 amboasary\n",
      "500 kitakata\n",
      "501 saint-pierre\n",
      "502 umm kaddadah\n",
      "503 strangnas\n",
      "504 warmbad\n",
      "505 gigmoto\n",
      "506 grand-santi\n",
      "507 lewisporte\n",
      "508 jaguarao\n",
      "509 margate\n",
      "510 nzega\n",
      "511 cockburn town\n",
      "512 buchanan\n",
      "513 singapore\n",
      "514 hamilton\n",
      "515 ternovka\n",
      "516 ulaangom\n",
      "517 sharan\n",
      "518 doha\n",
      "519 ixtapa\n",
      "520 bonaventure\n",
      "521 big spring\n",
      "522 kirakira\n",
      "523 xichang\n",
      "524 arman\n",
      "525 stettler\n",
      "526 san francisco\n",
      "527 haimen\n",
      "528 wasilla\n",
      "529 flint\n",
      "530 monrovia\n",
      "531 makakilo city\n",
      "532 maryville\n",
      "533 marovoay\n",
      "534 sulangan\n",
      "535 marsa matruh\n",
      "536 mandalgovi\n",
      "537 almaznyy\n",
      "538 abapo\n",
      "539 la ronge\n",
      "540 viesca\n",
      "541 avera\n",
      "542 solton\n",
      "543 digha\n",
      "544 dwarka\n",
      "545 oktyabrskiy\n",
      "546 korcula\n",
      "547 yorkton\n",
      "548 sanchursk\n",
      "549 ornskoldsvik\n",
      "550 koygorodok\n",
      "551 lodwar\n",
      "552 havre-saint-pierre\n",
      "553 roald\n",
      "554 itarema\n",
      "555 gerede\n",
      "556 sinnamary\n",
      "557 coihaique\n",
      "558 itape\n",
      "559 bubaque\n",
      "560 pascagoula\n",
      "561 gari\n",
      "562 takoradi\n",
      "563 varkaus\n",
      "564 santa fe\n",
      "565 nanyuki\n",
      "566 teruel\n",
      "567 setermoen\n",
      "568 urengoy\n",
      "569 santa maria\n",
      "570 bintulu\n",
      "571 port hardy\n",
      "572 davidson\n",
      "573 bonavista\n",
      "574 sibolga\n",
      "575 nelidovo\n",
      "576 novyy urengoy\n",
      "577 belaya gora\n",
      "578 sikandarabad\n",
      "579 ayr\n",
      "580 okhotsk\n",
      "581 kohima\n",
      "582 lompoc\n",
      "583 awbari\n",
      "584 sovetskiy\n"
     ]
    }
   ],
   "source": [
    "# loop throught the list of cities and append them to temperatures list\n",
    "\n",
    "# I guess I didn't actually append cities to the temperature list????\n",
    "\n",
    "temp = []\n",
    "lati = []\n",
    "longi = []\n",
    "humidity = []\n",
    "cloudy = []\n",
    "windspd = []\n",
    "name = []\n",
    "ctry = []\n",
    "counter = 0\n",
    "for city in cities: \n",
    "    try:\n",
    "        response = requests.get(query_url + city).json()\n",
    "        time.sleep(1) # Adding a second between calls to prevent reaching limit\n",
    "    \n",
    "        temp.append(response['main']['temp']) \n",
    "        lati.append(response['coord']['lat'])\n",
    "        longi.append(response['coord']['lon'])\n",
    "        humidity.append(response['main']['humidity'])\n",
    "        cloudy.append(response['clouds']['all']) \n",
    "        windspd.append(response['wind']['speed'])\n",
    "        name.append(response['name'])\n",
    "        ctry.append(response['sys']['country'])\n",
    "         \n",
    "        print(counter, city) # So this is to print the city name and count in the list\n",
    "        counter = counter + 1\n",
    "    except:\n",
    "        continue\n",
    "        "
   ]
  },
  {
   "cell_type": "markdown",
   "metadata": {},
   "source": [
    "### Convert Raw Data to DataFrame\n",
    "* Export the city data into a .csv.\n",
    "* Display the DataFrame"
   ]
  },
  {
   "cell_type": "code",
   "execution_count": 5,
   "metadata": {
    "scrolled": true
   },
   "outputs": [],
   "source": [
    "cities_df = pd.DataFrame({\"City\":name,\n",
    "                          \"Country\":ctry,\n",
    "                          \"Temperature\": temp, \n",
    "                          \"Humidity\":humidity,\n",
    "                          \"Latitude\": lati,\n",
    "                          \"Longitude\": longi,\n",
    "                          \"Humidity\":humidity,\n",
    "                          \"Cloudiness\":cloudy,\n",
    "                          \"Wind Speed\":windspd})\n"
   ]
  },
  {
   "cell_type": "code",
   "execution_count": 6,
   "metadata": {
    "scrolled": true
   },
   "outputs": [
    {
     "data": {
      "text/html": [
       "<div>\n",
       "<style scoped>\n",
       "    .dataframe tbody tr th:only-of-type {\n",
       "        vertical-align: middle;\n",
       "    }\n",
       "\n",
       "    .dataframe tbody tr th {\n",
       "        vertical-align: top;\n",
       "    }\n",
       "\n",
       "    .dataframe thead th {\n",
       "        text-align: right;\n",
       "    }\n",
       "</style>\n",
       "<table border=\"1\" class=\"dataframe\">\n",
       "  <thead>\n",
       "    <tr style=\"text-align: right;\">\n",
       "      <th></th>\n",
       "      <th>City</th>\n",
       "      <th>Country</th>\n",
       "      <th>Temperature</th>\n",
       "      <th>Humidity</th>\n",
       "      <th>Latitude</th>\n",
       "      <th>Longitude</th>\n",
       "      <th>Cloudiness</th>\n",
       "      <th>Wind Speed</th>\n",
       "    </tr>\n",
       "  </thead>\n",
       "  <tbody>\n",
       "    <tr>\n",
       "      <th>0</th>\n",
       "      <td>Butaritari</td>\n",
       "      <td>KI</td>\n",
       "      <td>80.89</td>\n",
       "      <td>81</td>\n",
       "      <td>3.0707</td>\n",
       "      <td>172.7902</td>\n",
       "      <td>91</td>\n",
       "      <td>21.90</td>\n",
       "    </tr>\n",
       "    <tr>\n",
       "      <th>1</th>\n",
       "      <td>Albany</td>\n",
       "      <td>US</td>\n",
       "      <td>31.39</td>\n",
       "      <td>64</td>\n",
       "      <td>42.6001</td>\n",
       "      <td>-73.9662</td>\n",
       "      <td>75</td>\n",
       "      <td>12.66</td>\n",
       "    </tr>\n",
       "    <tr>\n",
       "      <th>2</th>\n",
       "      <td>Birmitrapur</td>\n",
       "      <td>IN</td>\n",
       "      <td>61.47</td>\n",
       "      <td>61</td>\n",
       "      <td>22.4000</td>\n",
       "      <td>84.7667</td>\n",
       "      <td>40</td>\n",
       "      <td>6.38</td>\n",
       "    </tr>\n",
       "    <tr>\n",
       "      <th>3</th>\n",
       "      <td>Punta Arenas</td>\n",
       "      <td>CL</td>\n",
       "      <td>57.09</td>\n",
       "      <td>41</td>\n",
       "      <td>-53.1500</td>\n",
       "      <td>-70.9167</td>\n",
       "      <td>20</td>\n",
       "      <td>19.57</td>\n",
       "    </tr>\n",
       "    <tr>\n",
       "      <th>4</th>\n",
       "      <td>Aswān</td>\n",
       "      <td>EG</td>\n",
       "      <td>70.03</td>\n",
       "      <td>25</td>\n",
       "      <td>24.0934</td>\n",
       "      <td>32.9070</td>\n",
       "      <td>0</td>\n",
       "      <td>10.00</td>\n",
       "    </tr>\n",
       "    <tr>\n",
       "      <th>...</th>\n",
       "      <td>...</td>\n",
       "      <td>...</td>\n",
       "      <td>...</td>\n",
       "      <td>...</td>\n",
       "      <td>...</td>\n",
       "      <td>...</td>\n",
       "      <td>...</td>\n",
       "      <td>...</td>\n",
       "    </tr>\n",
       "    <tr>\n",
       "      <th>580</th>\n",
       "      <td>Okhotsk</td>\n",
       "      <td>RU</td>\n",
       "      <td>2.26</td>\n",
       "      <td>90</td>\n",
       "      <td>59.3833</td>\n",
       "      <td>143.3000</td>\n",
       "      <td>100</td>\n",
       "      <td>8.72</td>\n",
       "    </tr>\n",
       "    <tr>\n",
       "      <th>581</th>\n",
       "      <td>Kohima</td>\n",
       "      <td>IN</td>\n",
       "      <td>47.88</td>\n",
       "      <td>82</td>\n",
       "      <td>25.6667</td>\n",
       "      <td>94.1167</td>\n",
       "      <td>0</td>\n",
       "      <td>2.01</td>\n",
       "    </tr>\n",
       "    <tr>\n",
       "      <th>582</th>\n",
       "      <td>Lompoc</td>\n",
       "      <td>US</td>\n",
       "      <td>48.43</td>\n",
       "      <td>81</td>\n",
       "      <td>34.6391</td>\n",
       "      <td>-120.4579</td>\n",
       "      <td>1</td>\n",
       "      <td>5.75</td>\n",
       "    </tr>\n",
       "    <tr>\n",
       "      <th>583</th>\n",
       "      <td>Ubari</td>\n",
       "      <td>LY</td>\n",
       "      <td>72.19</td>\n",
       "      <td>20</td>\n",
       "      <td>26.5921</td>\n",
       "      <td>12.7805</td>\n",
       "      <td>72</td>\n",
       "      <td>13.31</td>\n",
       "    </tr>\n",
       "    <tr>\n",
       "      <th>584</th>\n",
       "      <td>Sovetskiy</td>\n",
       "      <td>RU</td>\n",
       "      <td>-3.78</td>\n",
       "      <td>92</td>\n",
       "      <td>61.3614</td>\n",
       "      <td>63.5842</td>\n",
       "      <td>100</td>\n",
       "      <td>12.24</td>\n",
       "    </tr>\n",
       "  </tbody>\n",
       "</table>\n",
       "<p>585 rows × 8 columns</p>\n",
       "</div>"
      ],
      "text/plain": [
       "             City Country  Temperature  Humidity  Latitude  Longitude  \\\n",
       "0      Butaritari      KI        80.89        81    3.0707   172.7902   \n",
       "1          Albany      US        31.39        64   42.6001   -73.9662   \n",
       "2     Birmitrapur      IN        61.47        61   22.4000    84.7667   \n",
       "3    Punta Arenas      CL        57.09        41  -53.1500   -70.9167   \n",
       "4           Aswān      EG        70.03        25   24.0934    32.9070   \n",
       "..            ...     ...          ...       ...       ...        ...   \n",
       "580       Okhotsk      RU         2.26        90   59.3833   143.3000   \n",
       "581        Kohima      IN        47.88        82   25.6667    94.1167   \n",
       "582        Lompoc      US        48.43        81   34.6391  -120.4579   \n",
       "583         Ubari      LY        72.19        20   26.5921    12.7805   \n",
       "584     Sovetskiy      RU        -3.78        92   61.3614    63.5842   \n",
       "\n",
       "     Cloudiness  Wind Speed  \n",
       "0            91       21.90  \n",
       "1            75       12.66  \n",
       "2            40        6.38  \n",
       "3            20       19.57  \n",
       "4             0       10.00  \n",
       "..          ...         ...  \n",
       "580         100        8.72  \n",
       "581           0        2.01  \n",
       "582           1        5.75  \n",
       "583          72       13.31  \n",
       "584         100       12.24  \n",
       "\n",
       "[585 rows x 8 columns]"
      ]
     },
     "execution_count": 6,
     "metadata": {},
     "output_type": "execute_result"
    }
   ],
   "source": [
    "cities_df"
   ]
  },
  {
   "cell_type": "code",
   "execution_count": 7,
   "metadata": {},
   "outputs": [],
   "source": [
    "cities_df.to_csv(\"cities.csv\")"
   ]
  },
  {
   "cell_type": "markdown",
   "metadata": {},
   "source": [
    "## Inspect the data and remove the cities where the humidity > 100%.\n",
    "----\n",
    "Skip this step if there are no cities that have humidity > 100%. "
   ]
  },
  {
   "cell_type": "code",
   "execution_count": null,
   "metadata": {},
   "outputs": [],
   "source": []
  },
  {
   "cell_type": "code",
   "execution_count": 8,
   "metadata": {},
   "outputs": [],
   "source": [
    "#  Get the indices of cities that have humidity over 100%.\n"
   ]
  },
  {
   "cell_type": "code",
   "execution_count": 9,
   "metadata": {},
   "outputs": [],
   "source": [
    "# Make a new DataFrame equal to the city data to drop all humidity outliers by index.\n",
    "# Passing \"inplace=False\" will make a copy of the city_data DataFrame, which we call \"clean_city_data\".\n"
   ]
  },
  {
   "cell_type": "code",
   "execution_count": null,
   "metadata": {},
   "outputs": [],
   "source": [
    "\n"
   ]
  },
  {
   "cell_type": "markdown",
   "metadata": {},
   "source": [
    "## Plotting the Data\n",
    "* Use proper labeling of the plots using plot titles (including date of analysis) and axes labels.\n",
    "* Save the plotted figures as .pngs."
   ]
  },
  {
   "cell_type": "markdown",
   "metadata": {},
   "source": [
    "## Latitude vs. Temperature Plot"
   ]
  },
  {
   "cell_type": "code",
   "execution_count": 10,
   "metadata": {
    "scrolled": false
   },
   "outputs": [
    {
     "data": {
      "image/png": "[encoded data removed]",
      "text/plain": [
       "<Figure size 432x288 with 1 Axes>"
      ]
     },
     "metadata": {
      "needs_background": "light"
     },
     "output_type": "display_data"
    }
   ],
   "source": [
    "plt.scatter(cities_df[\"Latitude\"], cities_df[\"Temperature\"], facecolor = \"red\", edgecolor = \"yellow\")\n",
    "\n",
    "# Set x axis label\n",
    "plt.xlabel(\"Latitude\")\n",
    "\n",
    "# Set y axis label\n",
    "plt.ylabel(\"Temperature (F)\")\n",
    "\n",
    "# Set title\n",
    "plt.title(\"City Latitude vs. Temperature (02/3/21)\")\n",
    "\n",
    "# Set x axis label\n",
    "plt.xlabel(\"Latitude\")\n",
    "\n",
    "# Set y axis label\n",
    "plt.ylabel(\"Temperature (F)\")\n",
    "\n",
    "# Set grid line\n",
    "plt.grid(linestyle='-', linewidth=1, alpha = 0.5)\n",
    "\n",
    "# Save the plotted figure as .pngs\n",
    "plt.savefig(\"City Latitude vs Temperature.png\")"
   ]
  },
  {
   "cell_type": "markdown",
   "metadata": {},
   "source": [
    "# As latitudes from zero increase - temps drop"
   ]
  },
  {
   "cell_type": "markdown",
   "metadata": {},
   "source": [
    "## Latitude vs. Humidity Plot"
   ]
  },
  {
   "cell_type": "code",
   "execution_count": 11,
   "metadata": {},
   "outputs": [
    {
     "data": {
      "image/png": "[encoded data removed]",
      "text/plain": [
       "<Figure size 432x288 with 1 Axes>"
      ]
     },
     "metadata": {
      "needs_background": "light"
     },
     "output_type": "display_data"
    }
   ],
   "source": [
    "plt.scatter(cities_df[\"Latitude\"], cities_df[\"Humidity\"], facecolor = \"yellow\", edgecolor = \"blue\")\n",
    "\n",
    "# Set title\n",
    "plt.title(\"City Latitude vs. Humidity(%) (02/3/21)\")\n",
    "\n",
    "# Set x axis label\n",
    "plt.xlabel(\"Latitude\")\n",
    "\n",
    "# Set y axis label\n",
    "plt.ylabel(\"Humidity(%)\")\n",
    "\n",
    "# Set x axis label\n",
    "plt.xlabel(\"Latitude\")\n",
    "\n",
    "# Set y axis label\n",
    "plt.ylabel(\"Humidity(%)\")\n",
    "\n",
    "# Set grid line\n",
    "plt.grid(linestyle='-', linewidth=1, alpha = 0.5)\n",
    "\n",
    "# Save the plotted figure as .pngs\n",
    "plt.savefig(\"City Latitude vs Humidity.png\")"
   ]
  },
  {
   "cell_type": "markdown",
   "metadata": {},
   "source": [
    "# many cities in higher latitudes with high humidity"
   ]
  },
  {
   "cell_type": "markdown",
   "metadata": {},
   "source": [
    "## Latitude vs. Cloudiness Plot"
   ]
  },
  {
   "cell_type": "code",
   "execution_count": 12,
   "metadata": {},
   "outputs": [
    {
     "data": {
      "image/png": "[encoded data removed]",
      "text/plain": [
       "<Figure size 432x288 with 1 Axes>"
      ]
     },
     "metadata": {
      "needs_background": "light"
     },
     "output_type": "display_data"
    }
   ],
   "source": [
    "plt.scatter(cities_df[\"Latitude\"], cities_df[\"Cloudiness\"], facecolor = \"white\", edgecolor = \"red\")\n",
    "\n",
    "# Set title\n",
    "plt.title(\"City Latitude vs. Cloudiness (%) (02/3/21)\")\n",
    "\n",
    "# Set x axis label\n",
    "plt.xlabel(\"Latitude\")\n",
    "\n",
    "# Set y axis label\n",
    "plt.ylabel(\"Cloudiness (%)\")\n",
    "\n",
    "# Set x axis label\n",
    "plt.xlabel(\"Latitude\")\n",
    "\n",
    "# Set y axis label\n",
    "plt.ylabel(\"Cloudiness (%)\")\n",
    "\n",
    "# Set grid line\n",
    "plt.grid(linestyle='-', linewidth=1, alpha = 0.5)\n",
    "\n",
    "# Save the plotted figure as .pngs\n",
    "plt.savefig(\"City Latitude vs Cloudiness.png\")"
   ]
  },
  {
   "cell_type": "markdown",
   "metadata": {},
   "source": [
    "# Cloudiness is along latitudes"
   ]
  },
  {
   "cell_type": "markdown",
   "metadata": {},
   "source": [
    "## Latitude vs. Wind Speed Plot"
   ]
  },
  {
   "cell_type": "code",
   "execution_count": 13,
   "metadata": {},
   "outputs": [
    {
     "data": {
      "image/png": "[encoded data removed]",
      "text/plain": [
       "<Figure size 432x288 with 1 Axes>"
      ]
     },
     "metadata": {
      "needs_background": "light"
     },
     "output_type": "display_data"
    }
   ],
   "source": [
    "plt.scatter(cities_df[\"Latitude\"], cities_df[\"Wind Speed\"], facecolor = \"pink\", edgecolor = \"black\")\n",
    "\n",
    "# Set x axis label\n",
    "plt.xlabel(\"Latitude\")\n",
    "\n",
    "# Set y axis label\n",
    "plt.ylabel(\"Wind Speed (mph)\")\n",
    "\n",
    "# Set title\n",
    "plt.title(\"City Latitude vs. Wind Speed (02/3/21)\")\n",
    "\n",
    "# Set x axis label\n",
    "plt.xlabel(\"Latitude\")\n",
    "\n",
    "# Set y axis label\n",
    "plt.ylabel(\"Wind Speed (mph)\")\n",
    "\n",
    "# Set grid line\n",
    "plt.grid(linestyle='-', linewidth=1, alpha = 0.5)\n",
    "\n",
    "# Save the plotted figure as .pngs\n",
    "plt.savefig(\"City Latitude vs wind speed.png\")"
   ]
  },
  {
   "cell_type": "markdown",
   "metadata": {},
   "source": [
    "# Plot shows wind speed spread across latitudes"
   ]
  },
  {
   "cell_type": "markdown",
   "metadata": {},
   "source": [
    "## Linear Regression"
   ]
  },
  {
   "cell_type": "code",
   "execution_count": 14,
   "metadata": {
    "scrolled": true
   },
   "outputs": [
    {
     "data": {
      "text/html": [
       "<div>\n",
       "<style scoped>\n",
       "    .dataframe tbody tr th:only-of-type {\n",
       "        vertical-align: middle;\n",
       "    }\n",
       "\n",
       "    .dataframe tbody tr th {\n",
       "        vertical-align: top;\n",
       "    }\n",
       "\n",
       "    .dataframe thead th {\n",
       "        text-align: right;\n",
       "    }\n",
       "</style>\n",
       "<table border=\"1\" class=\"dataframe\">\n",
       "  <thead>\n",
       "    <tr style=\"text-align: right;\">\n",
       "      <th></th>\n",
       "      <th>City</th>\n",
       "      <th>Country</th>\n",
       "      <th>Temperature</th>\n",
       "      <th>Humidity</th>\n",
       "      <th>Latitude</th>\n",
       "      <th>Longitude</th>\n",
       "      <th>Cloudiness</th>\n",
       "      <th>Wind Speed</th>\n",
       "    </tr>\n",
       "  </thead>\n",
       "  <tbody>\n",
       "    <tr>\n",
       "      <th>0</th>\n",
       "      <td>Butaritari</td>\n",
       "      <td>KI</td>\n",
       "      <td>80.89</td>\n",
       "      <td>81</td>\n",
       "      <td>3.0707</td>\n",
       "      <td>172.7902</td>\n",
       "      <td>91</td>\n",
       "      <td>21.90</td>\n",
       "    </tr>\n",
       "    <tr>\n",
       "      <th>1</th>\n",
       "      <td>Albany</td>\n",
       "      <td>US</td>\n",
       "      <td>31.39</td>\n",
       "      <td>64</td>\n",
       "      <td>42.6001</td>\n",
       "      <td>-73.9662</td>\n",
       "      <td>75</td>\n",
       "      <td>12.66</td>\n",
       "    </tr>\n",
       "    <tr>\n",
       "      <th>2</th>\n",
       "      <td>Birmitrapur</td>\n",
       "      <td>IN</td>\n",
       "      <td>61.47</td>\n",
       "      <td>61</td>\n",
       "      <td>22.4000</td>\n",
       "      <td>84.7667</td>\n",
       "      <td>40</td>\n",
       "      <td>6.38</td>\n",
       "    </tr>\n",
       "    <tr>\n",
       "      <th>4</th>\n",
       "      <td>Aswān</td>\n",
       "      <td>EG</td>\n",
       "      <td>70.03</td>\n",
       "      <td>25</td>\n",
       "      <td>24.0934</td>\n",
       "      <td>32.9070</td>\n",
       "      <td>0</td>\n",
       "      <td>10.00</td>\n",
       "    </tr>\n",
       "    <tr>\n",
       "      <th>5</th>\n",
       "      <td>Atasū</td>\n",
       "      <td>KZ</td>\n",
       "      <td>31.48</td>\n",
       "      <td>98</td>\n",
       "      <td>48.6814</td>\n",
       "      <td>71.6433</td>\n",
       "      <td>100</td>\n",
       "      <td>24.72</td>\n",
       "    </tr>\n",
       "    <tr>\n",
       "      <th>...</th>\n",
       "      <td>...</td>\n",
       "      <td>...</td>\n",
       "      <td>...</td>\n",
       "      <td>...</td>\n",
       "      <td>...</td>\n",
       "      <td>...</td>\n",
       "      <td>...</td>\n",
       "      <td>...</td>\n",
       "    </tr>\n",
       "    <tr>\n",
       "      <th>580</th>\n",
       "      <td>Okhotsk</td>\n",
       "      <td>RU</td>\n",
       "      <td>2.26</td>\n",
       "      <td>90</td>\n",
       "      <td>59.3833</td>\n",
       "      <td>143.3000</td>\n",
       "      <td>100</td>\n",
       "      <td>8.72</td>\n",
       "    </tr>\n",
       "    <tr>\n",
       "      <th>581</th>\n",
       "      <td>Kohima</td>\n",
       "      <td>IN</td>\n",
       "      <td>47.88</td>\n",
       "      <td>82</td>\n",
       "      <td>25.6667</td>\n",
       "      <td>94.1167</td>\n",
       "      <td>0</td>\n",
       "      <td>2.01</td>\n",
       "    </tr>\n",
       "    <tr>\n",
       "      <th>582</th>\n",
       "      <td>Lompoc</td>\n",
       "      <td>US</td>\n",
       "      <td>48.43</td>\n",
       "      <td>81</td>\n",
       "      <td>34.6391</td>\n",
       "      <td>-120.4579</td>\n",
       "      <td>1</td>\n",
       "      <td>5.75</td>\n",
       "    </tr>\n",
       "    <tr>\n",
       "      <th>583</th>\n",
       "      <td>Ubari</td>\n",
       "      <td>LY</td>\n",
       "      <td>72.19</td>\n",
       "      <td>20</td>\n",
       "      <td>26.5921</td>\n",
       "      <td>12.7805</td>\n",
       "      <td>72</td>\n",
       "      <td>13.31</td>\n",
       "    </tr>\n",
       "    <tr>\n",
       "      <th>584</th>\n",
       "      <td>Sovetskiy</td>\n",
       "      <td>RU</td>\n",
       "      <td>-3.78</td>\n",
       "      <td>92</td>\n",
       "      <td>61.3614</td>\n",
       "      <td>63.5842</td>\n",
       "      <td>100</td>\n",
       "      <td>12.24</td>\n",
       "    </tr>\n",
       "  </tbody>\n",
       "</table>\n",
       "<p>415 rows × 8 columns</p>\n",
       "</div>"
      ],
      "text/plain": [
       "            City Country  Temperature  Humidity  Latitude  Longitude  \\\n",
       "0     Butaritari      KI        80.89        81    3.0707   172.7902   \n",
       "1         Albany      US        31.39        64   42.6001   -73.9662   \n",
       "2    Birmitrapur      IN        61.47        61   22.4000    84.7667   \n",
       "4          Aswān      EG        70.03        25   24.0934    32.9070   \n",
       "5          Atasū      KZ        31.48        98   48.6814    71.6433   \n",
       "..           ...     ...          ...       ...       ...        ...   \n",
       "580      Okhotsk      RU         2.26        90   59.3833   143.3000   \n",
       "581       Kohima      IN        47.88        82   25.6667    94.1167   \n",
       "582       Lompoc      US        48.43        81   34.6391  -120.4579   \n",
       "583        Ubari      LY        72.19        20   26.5921    12.7805   \n",
       "584    Sovetskiy      RU        -3.78        92   61.3614    63.5842   \n",
       "\n",
       "     Cloudiness  Wind Speed  \n",
       "0            91       21.90  \n",
       "1            75       12.66  \n",
       "2            40        6.38  \n",
       "4             0       10.00  \n",
       "5           100       24.72  \n",
       "..          ...         ...  \n",
       "580         100        8.72  \n",
       "581           0        2.01  \n",
       "582           1        5.75  \n",
       "583          72       13.31  \n",
       "584         100       12.24  \n",
       "\n",
       "[415 rows x 8 columns]"
      ]
     },
     "execution_count": 14,
     "metadata": {},
     "output_type": "execute_result"
    }
   ],
   "source": [
    "northern = cities_df.loc[cities_df[\"Latitude\"]>=0]\n",
    "southern = cities_df.loc[cities_df[\"Latitude\"]<0]\n",
    "northern"
   ]
  },
  {
   "cell_type": "markdown",
   "metadata": {},
   "source": [
    "####  Northern Hemisphere - Max Temp vs. Latitude Linear Regression"
   ]
  },
  {
   "cell_type": "code",
   "execution_count": 15,
   "metadata": {},
   "outputs": [
    {
     "data": {
      "image/png": "[encoded data removed]",
      "text/plain": [
       "<Figure size 432x288 with 1 Axes>"
      ]
     },
     "metadata": {
      "needs_background": "light"
     },
     "output_type": "display_data"
    },
    {
     "data": {
      "text/plain": [
       "<Figure size 432x288 with 0 Axes>"
      ]
     },
     "metadata": {},
     "output_type": "display_data"
    }
   ],
   "source": [
    "x2 = northern[\"Latitude\"]\n",
    "y2 = northern[\"Temperature\"]\n",
    "(slope, intercept, rvalue, pvalue, stderr) = linregress(x2, y2)\n",
    "regress_values = x2 * slope + intercept\n",
    "line_eq = \"y = \" + str(round(slope,2)) + \"x + \" + str(round(intercept,2))\n",
    "plt.scatter(x2,y2)\n",
    "plt.plot(x2,regress_values,\"r-\")\n",
    "plt.annotate(line_eq,(6,10),fontsize=15,color=\"red\")\n",
    "plt.xlabel('Latitude')\n",
    "plt.ylabel('Max Temp')\n",
    "plt.title(\"Northern Hemisphere - Max Temp vs. Latitude Linear Regression\")\n",
    "plt.show()\n",
    "# Save the plotted figure as .pngs\n",
    "plt.savefig(\"Northern Hemisphere - Max Temp vs. Latitude Linear Regression.png\")"
   ]
  },
  {
   "cell_type": "markdown",
   "metadata": {},
   "source": [
    "# Stong negative correlation between max temp and latitude "
   ]
  },
  {
   "cell_type": "markdown",
   "metadata": {},
   "source": [
    "####  Southern Hemisphere - Max Temp vs. Latitude Linear Regression"
   ]
  },
  {
   "cell_type": "code",
   "execution_count": 16,
   "metadata": {},
   "outputs": [
    {
     "data": {
      "image/png": "[encoded data removed]",
      "text/plain": [
       "<Figure size 432x288 with 1 Axes>"
      ]
     },
     "metadata": {
      "needs_background": "light"
     },
     "output_type": "display_data"
    },
    {
     "data": {
      "text/plain": [
       "<Figure size 432x288 with 0 Axes>"
      ]
     },
     "metadata": {},
     "output_type": "display_data"
    }
   ],
   "source": [
    "x2 = southern[\"Latitude\"]\n",
    "y2 = southern[\"Temperature\"]\n",
    "(slope, intercept, rvalue, pvalue, stderr) = linregress(x2, y2)\n",
    "regress_values = x2 * slope + intercept\n",
    "line_eq = \"y = \" + str(round(slope,2)) + \"x + \" + str(round(intercept,2))\n",
    "plt.scatter(x2,y2)\n",
    "plt.plot(x2,regress_values,\"r-\")\n",
    "plt.annotate(line_eq,(6,10),fontsize=15,color=\"red\")\n",
    "plt.xlabel('Latitude')\n",
    "plt.ylabel('Max Temp')\n",
    "plt.title(\"Southern Hemisphere - Max Temp vs. Latitude Linear Regression\")\n",
    "plt.show()\n",
    "# Save the plotted figure as .pngs\n",
    "plt.savefig(\"Southern Hemisphere - Max Temp vs. Latitude Linear Regression.png\")"
   ]
  },
  {
   "cell_type": "markdown",
   "metadata": {},
   "source": [
    "# Somewhat positive correlation between latitude and max temperature "
   ]
  },
  {
   "cell_type": "raw",
   "metadata": {},
   "source": [
    "####  Northern Hemisphere - Humidity (%) vs. Latitude Linear Regression"
   ]
  },
  {
   "cell_type": "code",
   "execution_count": 17,
   "metadata": {},
   "outputs": [
    {
     "data": {
      "image/png": "[encoded data removed]",
      "text/plain": [
       "<Figure size 432x288 with 1 Axes>"
      ]
     },
     "metadata": {
      "needs_background": "light"
     },
     "output_type": "display_data"
    },
    {
     "data": {
      "text/plain": [
       "<Figure size 432x288 with 0 Axes>"
      ]
     },
     "metadata": {},
     "output_type": "display_data"
    }
   ],
   "source": [
    "x2 = northern[\"Latitude\"]\n",
    "y2 = northern[\"Humidity\"]\n",
    "(slope, intercept, rvalue, pvalue, stderr) = linregress(x2, y2)\n",
    "regress_values = x2 * slope + intercept\n",
    "line_eq = \"y = \" + str(round(slope,2)) + \"x + \" + str(round(intercept,2))\n",
    "plt.scatter(x2,y2)\n",
    "plt.plot(x2,regress_values,\"r-\")\n",
    "plt.annotate(line_eq,(6,10),fontsize=15,color=\"red\")\n",
    "plt.xlabel('Latitude')\n",
    "plt.ylabel('Humidity')\n",
    "plt.title(\"Northern Hemisphere - Humidity (%) vs. Latitude Linear Regression\")\n",
    "plt.show()\n",
    "# Save the plotted figure as .pngs\n",
    "plt.savefig(\"Northern Hemisphere - Humidity (%) vs. Latitude Linear Regression.png\")"
   ]
  },
  {
   "cell_type": "markdown",
   "metadata": {},
   "source": [
    "# some positive correlation between latitude and humidity"
   ]
  },
  {
   "cell_type": "markdown",
   "metadata": {},
   "source": [
    "####  Southern Hemisphere - Humidity (%) vs. Latitude Linear Regression"
   ]
  },
  {
   "cell_type": "code",
   "execution_count": 18,
   "metadata": {},
   "outputs": [
    {
     "data": {
      "image/png": "[encoded data removed]",
      "text/plain": [
       "<Figure size 432x288 with 1 Axes>"
      ]
     },
     "metadata": {
      "needs_background": "light"
     },
     "output_type": "display_data"
    },
    {
     "data": {
      "text/plain": [
       "<Figure size 432x288 with 0 Axes>"
      ]
     },
     "metadata": {},
     "output_type": "display_data"
    }
   ],
   "source": [
    "x2 = southern[\"Latitude\"]\n",
    "y2 = southern[\"Humidity\"]\n",
    "(slope, intercept, rvalue, pvalue, stderr) = linregress(x2, y2)\n",
    "regress_values = x2 * slope + intercept\n",
    "line_eq = \"y = \" + str(round(slope,2)) + \"x + \" + str(round(intercept,2))\n",
    "plt.scatter(x2,y2)\n",
    "plt.plot(x2,regress_values,\"r-\")\n",
    "plt.annotate(line_eq,(6,10),fontsize=15,color=\"red\")\n",
    "plt.xlabel('Latitude')\n",
    "plt.ylabel('Humidity')\n",
    "plt.title(\"Southern Hemisphere - Humidity (%) vs. Latitude Linear Regression\")\n",
    "plt.show()\n",
    "# Save the plotted figure as .pngs\n",
    "plt.savefig(\"Southern Hemisphere - Humidity (%) vs. Latitude Linear Regression.png\")"
   ]
  },
  {
   "cell_type": "markdown",
   "metadata": {},
   "source": [
    "# Slight positive correlation between latitude and humidity"
   ]
  },
  {
   "cell_type": "markdown",
   "metadata": {},
   "source": [
    "####  Northern Hemisphere - Cloudiness (%) vs. Latitude Linear Regression"
   ]
  },
  {
   "cell_type": "code",
   "execution_count": 19,
   "metadata": {},
   "outputs": [
    {
     "data": {
      "image/png": "[encoded data removed]",
      "text/plain": [
       "<Figure size 432x288 with 1 Axes>"
      ]
     },
     "metadata": {
      "needs_background": "light"
     },
     "output_type": "display_data"
    },
    {
     "data": {
      "text/plain": [
       "<Figure size 432x288 with 0 Axes>"
      ]
     },
     "metadata": {},
     "output_type": "display_data"
    }
   ],
   "source": [
    "x2 = northern[\"Latitude\"]\n",
    "y2 = northern[\"Cloudiness\"]\n",
    "(slope, intercept, rvalue, pvalue, stderr) = linregress(x2, y2)\n",
    "regress_values = x2 * slope + intercept\n",
    "line_eq = \"y = \" + str(round(slope,2)) + \"x + \" + str(round(intercept,2))\n",
    "plt.scatter(x2,y2)\n",
    "plt.plot(x2,regress_values,\"r-\")\n",
    "plt.annotate(line_eq,(10,30),fontsize=15,color=\"red\")\n",
    "plt.xlabel('Latitude')\n",
    "plt.ylabel('Cloudiness')\n",
    "plt.title(\"Northern Hemisphere - Cloudiness (%) vs. Latitude Linear Regression\")\n",
    "plt.show()\n",
    "# Save the plotted figure as .pngs\n",
    "plt.savefig(\"Northern Hemisphere - Cloudiness (%) vs. Latitude Linear Regression.png\")"
   ]
  },
  {
   "cell_type": "markdown",
   "metadata": {},
   "source": [
    "# Weak positive correlation between between latitude and cloudiness"
   ]
  },
  {
   "cell_type": "markdown",
   "metadata": {},
   "source": [
    "####  Southern Hemisphere - Cloudiness (%) vs. Latitude Linear Regression"
   ]
  },
  {
   "cell_type": "code",
   "execution_count": 20,
   "metadata": {},
   "outputs": [
    {
     "data": {
      "image/png": "[encoded data removed]",
      "text/plain": [
       "<Figure size 432x288 with 1 Axes>"
      ]
     },
     "metadata": {
      "needs_background": "light"
     },
     "output_type": "display_data"
    },
    {
     "data": {
      "text/plain": [
       "<Figure size 432x288 with 0 Axes>"
      ]
     },
     "metadata": {},
     "output_type": "display_data"
    }
   ],
   "source": [
    "x2 = southern[\"Latitude\"]\n",
    "y2 = southern[\"Cloudiness\"]\n",
    "(slope, intercept, rvalue, pvalue, stderr) = linregress(x2, y2)\n",
    "regress_values = x2 * slope + intercept\n",
    "line_eq = \"y = \" + str(round(slope,2)) + \"x + \" + str(round(intercept,2))\n",
    "plt.scatter(x2,y2)\n",
    "plt.plot(x2,regress_values,\"r-\")\n",
    "plt.annotate(line_eq,(10,30),fontsize=15,color=\"red\")\n",
    "plt.xlabel('Latitude')\n",
    "plt.ylabel('Cloudiness')\n",
    "plt.title(\"Southern Hemisphere - Cloudiness (%) vs. Latitude Linear Regression\")\n",
    "plt.show()\n",
    "# Save the plotted figure as .pngs\n",
    "plt.savefig(\"Southern Hemisphere - Cloudiness (%) vs. Latitude Linear Regression.png\")"
   ]
  },
  {
   "cell_type": "markdown",
   "metadata": {},
   "source": [
    "# Weak postitive correlation between cloudiness and latitude"
   ]
  },
  {
   "cell_type": "markdown",
   "metadata": {},
   "source": [
    "####  Northern Hemisphere - Wind Speed (mph) vs. Latitude Linear Regression"
   ]
  },
  {
   "cell_type": "code",
   "execution_count": 21,
   "metadata": {},
   "outputs": [
    {
     "data": {
      "image/png": "[encoded data removed]",
      "text/plain": [
       "<Figure size 432x288 with 1 Axes>"
      ]
     },
     "metadata": {
      "needs_background": "light"
     },
     "output_type": "display_data"
    },
    {
     "data": {
      "text/plain": [
       "<Figure size 432x288 with 0 Axes>"
      ]
     },
     "metadata": {},
     "output_type": "display_data"
    }
   ],
   "source": [
    "x2 = northern[\"Latitude\"]\n",
    "y2 = northern[\"Wind Speed\"]\n",
    "(slope, intercept, rvalue, pvalue, stderr) = linregress(x2, y2)\n",
    "regress_values = x2 * slope + intercept\n",
    "line_eq = \"y = \" + str(round(slope,2)) + \"x + \" + str(round(intercept,2))\n",
    "plt.scatter(x2,y2)\n",
    "plt.plot(x2,regress_values,\"r-\")\n",
    "plt.annotate(line_eq,(10,30),fontsize=15,color=\"red\")\n",
    "plt.xlabel('Latitude')\n",
    "plt.ylabel('Wind Speed')\n",
    "plt.title(\"Northern Hemisphere - Wind Speed (mph) vs. Latitude Linear Regression\")\n",
    "plt.show()\n",
    "# Save the plotted figure as .pngs\n",
    "plt.savefig(\"Northern Hemisphere - Wind Speed (mph) vs. Latitude Linear Regression.png\")"
   ]
  },
  {
   "cell_type": "markdown",
   "metadata": {},
   "source": [
    "# Weak postive correlation between latitude and windspeed"
   ]
  },
  {
   "cell_type": "markdown",
   "metadata": {},
   "source": [
    "####  Southern Hemisphere - Wind Speed (mph) vs. Latitude Linear Regression"
   ]
  },
  {
   "cell_type": "code",
   "execution_count": 22,
   "metadata": {},
   "outputs": [
    {
     "data": {
      "image/png": "[encoded data removed]",
      "text/plain": [
       "<Figure size 432x288 with 1 Axes>"
      ]
     },
     "metadata": {
      "needs_background": "light"
     },
     "output_type": "display_data"
    },
    {
     "data": {
      "text/plain": [
       "<Figure size 432x288 with 0 Axes>"
      ]
     },
     "metadata": {},
     "output_type": "display_data"
    }
   ],
   "source": [
    "x2 = southern[\"Latitude\"]\n",
    "y2 = southern[\"Wind Speed\"]\n",
    "(slope, intercept, rvalue, pvalue, stderr) = linregress(x2, y2)\n",
    "regress_values = x2 * slope + intercept\n",
    "line_eq = \"y = \" + str(round(slope,2)) + \"x + \" + str(round(intercept,2))\n",
    "plt.scatter(x2,y2)\n",
    "plt.plot(x2,regress_values,\"r-\")\n",
    "plt.annotate(line_eq,(10,30),fontsize=15,color=\"red\")\n",
    "plt.xlabel('Latitude')\n",
    "plt.ylabel('Wind Speed')\n",
    "plt.title(\"Southern Hemisphere - Wind Speed (mph) vs. Latitude Linear Regression\")\n",
    "plt.show()\n",
    "# Save the plotted figure as .pngs\n",
    "plt.savefig(\"Southern Hemisphere - Wind Speed (mph) vs. Latitude Linear Regression.png\")"
   ]
  },
  {
   "cell_type": "markdown",
   "metadata": {},
   "source": [
    "# Weak negative correlation between latitude and wind speed"
   ]
  },
  {
   "cell_type": "code",
   "execution_count": null,
   "metadata": {},
   "outputs": [],
   "source": []
  },
  {
   "cell_type": "code",
   "execution_count": null,
   "metadata": {},
   "outputs": [],
   "source": []
  }
 ],
 "metadata": {
  "anaconda-cloud": {},
  "kernel_info": {
   "name": "python3"
  },
  "kernelspec": {
   "display_name": "Python 3",
   "language": "python",
   "name": "python3"
  },
  "language_info": {
   "codemirror_mode": {
    "name": "ipython",
    "version": 3
   },
   "file_extension": ".py",
   "mimetype": "text/x-python",
   "name": "python",
   "nbconvert_exporter": "python",
   "pygments_lexer": "ipython3",
   "version": "3.6.12"
  },
  "latex_envs": {
   "LaTeX_envs_menu_present": true,
   "autoclose": false,
   "autocomplete": true,
   "bibliofile": "biblio.bib",
   "cite_by": "apalike",
   "current_citInitial": 1,
   "eqLabelWithNumbers": true,
   "eqNumInitial": 1,
   "hotkeys": {
    "equation": "Ctrl-E",
    "itemize": "Ctrl-I"
   },
   "labels_anchors": false,
   "latex_user_defs": false,
   "report_style_numbering": false,
   "user_envs_cfg": false
  },
  "nteract": {
   "version": "0.12.3"
  }
 },
 "nbformat": 4,
 "nbformat_minor": 2
}
